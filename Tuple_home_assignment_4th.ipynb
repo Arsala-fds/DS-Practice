{
 "cells": [
  {
   "cell_type": "markdown",
   "id": "fdb37c2e-15be-48e8-825b-e264d03a916a",
   "metadata": {},
   "source": [
    "        TUPLE CREATION"
   ]
  },
  {
   "cell_type": "code",
   "execution_count": 7,
   "id": "069b4e07-c944-4e46-8c04-ddca422df469",
   "metadata": {},
   "outputs": [
    {
     "data": {
      "text/plain": [
       "()"
      ]
     },
     "execution_count": 7,
     "metadata": {},
     "output_type": "execute_result"
    }
   ],
   "source": [
    "tup1 = () # empty tuple \n",
    "tup1"
   ]
  },
  {
   "cell_type": "code",
   "execution_count": 8,
   "id": "a19444b7-4b2b-4e2f-9eb5-bf98784148dc",
   "metadata": {},
   "outputs": [
    {
     "data": {
      "text/plain": [
       "tuple"
      ]
     },
     "execution_count": 8,
     "metadata": {},
     "output_type": "execute_result"
    }
   ],
   "source": [
    "type(tup1)"
   ]
  },
  {
   "cell_type": "code",
   "execution_count": 9,
   "id": "688e4a68-aa8a-4382-b660-a68c34bc85f3",
   "metadata": {},
   "outputs": [
    {
     "data": {
      "text/plain": [
       "(10, 20, 30)"
      ]
     },
     "execution_count": 9,
     "metadata": {},
     "output_type": "execute_result"
    }
   ],
   "source": [
    "tup2 = (10, 20, 30) #tupe of integer\n",
    "tup2"
   ]
  },
  {
   "cell_type": "code",
   "execution_count": 10,
   "id": "77a7b285-7d25-4d01-8fa0-024b38ac8333",
   "metadata": {},
   "outputs": [
    {
     "data": {
      "text/plain": [
       "(1.5, 10.3, 7.1)"
      ]
     },
     "execution_count": 10,
     "metadata": {},
     "output_type": "execute_result"
    }
   ],
   "source": [
    "tup3 = (1.5, 10.3, 7.1) #tuple of float\n",
    "tup3"
   ]
  },
  {
   "cell_type": "code",
   "execution_count": 12,
   "id": "2ee08f86-bd2e-4a65-b186-8496309990b4",
   "metadata": {},
   "outputs": [
    {
     "data": {
      "text/plain": [
       "('python', 'one', 'two')"
      ]
     },
     "execution_count": 12,
     "metadata": {},
     "output_type": "execute_result"
    }
   ],
   "source": [
    "tup4 = (\"python\", \"one\", \"two\") #Tuple of string\n",
    "tup4"
   ]
  },
  {
   "cell_type": "code",
   "execution_count": 13,
   "id": "4967b963-8a14-4323-ae14-9127b09fc0b8",
   "metadata": {},
   "outputs": [],
   "source": [
    "#Nested tuples:- tuple inside a tuple "
   ]
  },
  {
   "cell_type": "code",
   "execution_count": 15,
   "id": "e9dd76e1-5ef0-4811-8640-c0246b5d37e8",
   "metadata": {},
   "outputs": [
    {
     "data": {
      "text/plain": [
       "(1, 3, (5, 6), 7, 8, (10, 20))"
      ]
     },
     "execution_count": 15,
     "metadata": {},
     "output_type": "execute_result"
    }
   ],
   "source": [
    "tup5 = (1, 3, (5, 6), 7, 8, (10, 20))\n",
    "tup5"
   ]
  },
  {
   "cell_type": "code",
   "execution_count": 16,
   "id": "71590099-ba74-468c-9eec-a5394e280b1a",
   "metadata": {},
   "outputs": [
    {
     "data": {
      "text/plain": [
       "6"
      ]
     },
     "execution_count": 16,
     "metadata": {},
     "output_type": "execute_result"
    }
   ],
   "source": [
    "len(tup5) #length of list"
   ]
  },
  {
   "cell_type": "code",
   "execution_count": 18,
   "id": "38cf4639-7526-4de9-b6c6-559f486fcd3c",
   "metadata": {},
   "outputs": [
    {
     "data": {
      "text/plain": [
       "(10, 7.3, (1+3j), 'python', True)"
      ]
     },
     "execution_count": 18,
     "metadata": {},
     "output_type": "execute_result"
    }
   ],
   "source": [
    "tup6 = (10, 7.3, 1+3j, 'python', True) # mixing datatype in tuple\n",
    "tup6"
   ]
  },
  {
   "cell_type": "markdown",
   "id": "9de91b06-525d-43e5-a6d3-31d300e5a82c",
   "metadata": {},
   "source": [
    "TUPLE INDEXING"
   ]
  },
  {
   "cell_type": "code",
   "execution_count": 19,
   "id": "c91b0e83-4829-45ee-8a6b-f6966dcf23ef",
   "metadata": {},
   "outputs": [
    {
     "data": {
      "text/plain": [
       "(10, 20, 30)"
      ]
     },
     "execution_count": 19,
     "metadata": {},
     "output_type": "execute_result"
    }
   ],
   "source": [
    "tup2"
   ]
  },
  {
   "cell_type": "code",
   "execution_count": 22,
   "id": "f7bd2789-1ad4-4412-acff-ed822bd4c33c",
   "metadata": {},
   "outputs": [
    {
     "data": {
      "text/plain": [
       "20"
      ]
     },
     "execution_count": 22,
     "metadata": {},
     "output_type": "execute_result"
    }
   ],
   "source": [
    "tup2[1]"
   ]
  },
  {
   "cell_type": "code",
   "execution_count": 24,
   "id": "b1226ba3-1e87-460c-aba9-d368986c5773",
   "metadata": {},
   "outputs": [
    {
     "data": {
      "text/plain": [
       "30"
      ]
     },
     "execution_count": 24,
     "metadata": {},
     "output_type": "execute_result"
    }
   ],
   "source": [
    "tup2[-1]"
   ]
  },
  {
   "cell_type": "code",
   "execution_count": 25,
   "id": "45573599-a01e-445c-ad74-b41f7ccfe7d9",
   "metadata": {},
   "outputs": [
    {
     "data": {
      "text/plain": [
       "('python', 'one', 'two')"
      ]
     },
     "execution_count": 25,
     "metadata": {},
     "output_type": "execute_result"
    }
   ],
   "source": [
    "tup4"
   ]
  },
  {
   "cell_type": "code",
   "execution_count": 27,
   "id": "bf84d6cc-1be4-4b0f-bdf3-170f9b81b266",
   "metadata": {},
   "outputs": [
    {
     "data": {
      "text/plain": [
       "'python'"
      ]
     },
     "execution_count": 27,
     "metadata": {},
     "output_type": "execute_result"
    }
   ],
   "source": [
    "tup4[0] #Retrieve fist element of the tuple"
   ]
  },
  {
   "cell_type": "code",
   "execution_count": 28,
   "id": "a64c516b-7675-4867-91c0-640fd2ef6eff",
   "metadata": {},
   "outputs": [
    {
     "data": {
      "text/plain": [
       "'p'"
      ]
     },
     "execution_count": 28,
     "metadata": {},
     "output_type": "execute_result"
    }
   ],
   "source": [
    "tup4[0][0] #nested indexing:- Access the first character of fist tuple element"
   ]
  },
  {
   "cell_type": "code",
   "execution_count": 29,
   "id": "2006fd8d-96cc-4289-8375-067089023efe",
   "metadata": {},
   "outputs": [
    {
     "data": {
      "text/plain": [
       "'y'"
      ]
     },
     "execution_count": 29,
     "metadata": {},
     "output_type": "execute_result"
    }
   ],
   "source": [
    "tup4[0][1]"
   ]
  },
  {
   "cell_type": "code",
   "execution_count": 30,
   "id": "6ba52dc4-5f83-4cb5-a965-e539c6f839f8",
   "metadata": {},
   "outputs": [
    {
     "data": {
      "text/plain": [
       "'two'"
      ]
     },
     "execution_count": 30,
     "metadata": {},
     "output_type": "execute_result"
    }
   ],
   "source": [
    "tup4[-1]"
   ]
  },
  {
   "cell_type": "code",
   "execution_count": 31,
   "id": "416bb4bf-8d34-4dbb-94a2-b61c1ce25b0c",
   "metadata": {},
   "outputs": [
    {
     "data": {
      "text/plain": [
       "(1, 3, (5, 6), 7, 8, (10, 20))"
      ]
     },
     "execution_count": 31,
     "metadata": {},
     "output_type": "execute_result"
    }
   ],
   "source": [
    "tup5"
   ]
  },
  {
   "cell_type": "code",
   "execution_count": 32,
   "id": "2eada4c1-0b63-4eeb-adae-d38514d7d109",
   "metadata": {},
   "outputs": [
    {
     "data": {
      "text/plain": [
       "(10, 20)"
      ]
     },
     "execution_count": 32,
     "metadata": {},
     "output_type": "execute_result"
    }
   ],
   "source": [
    "tup5[-1]"
   ]
  },
  {
   "cell_type": "markdown",
   "id": "0cc19e7f-d5b2-4fd1-828b-9fd4ce153d7c",
   "metadata": {},
   "source": [
    "    TUPLE SLICING"
   ]
  },
  {
   "cell_type": "code",
   "execution_count": 34,
   "id": "30bb8863-ac9e-49a8-a484-3fd2bb2a19e2",
   "metadata": {},
   "outputs": [
    {
     "data": {
      "text/plain": [
       "('one', 'two', 'three', 'four', 'five')"
      ]
     },
     "execution_count": 34,
     "metadata": {},
     "output_type": "execute_result"
    }
   ],
   "source": [
    "my_tuple= ('one', 'two', 'three', 'four', 'five')\n",
    "my_tuple"
   ]
  },
  {
   "cell_type": "code",
   "execution_count": 35,
   "id": "43f08b7a-d96d-44d6-b4ea-8935d3a90f17",
   "metadata": {},
   "outputs": [
    {
     "data": {
      "text/plain": [
       "('one', 'two', 'three')"
      ]
     },
     "execution_count": 35,
     "metadata": {},
     "output_type": "execute_result"
    }
   ],
   "source": [
    "my_tuple[0:3] #return all item from 0th index to 3rd index excluding 3rd index"
   ]
  },
  {
   "cell_type": "code",
   "execution_count": 38,
   "id": "65dc71ab-43aa-49c7-a3d4-f8712d162b00",
   "metadata": {},
   "outputs": [
    {
     "data": {
      "text/plain": [
       "('three', 'four', 'five')"
      ]
     },
     "execution_count": 38,
     "metadata": {},
     "output_type": "execute_result"
    }
   ],
   "source": [
    "my_tuple[2:5] #return all item from 2nd index till 5th index excluding 5th index"
   ]
  },
  {
   "cell_type": "code",
   "execution_count": 39,
   "id": "d52df239-2c56-4fbf-b3b1-80f6e6697432",
   "metadata": {},
   "outputs": [
    {
     "data": {
      "text/plain": [
       "('one', 'two', 'three', 'four')"
      ]
     },
     "execution_count": 39,
     "metadata": {},
     "output_type": "execute_result"
    }
   ],
   "source": [
    "my_tuple[:4] # bydefault it always start from oth index and return fist 4 items"
   ]
  },
  {
   "cell_type": "code",
   "execution_count": 40,
   "id": "89bedba4-6986-48f1-b555-8b95bff53cad",
   "metadata": {},
   "outputs": [
    {
     "data": {
      "text/plain": [
       "('four', 'five')"
      ]
     },
     "execution_count": 40,
     "metadata": {},
     "output_type": "execute_result"
    }
   ],
   "source": [
    "my_tuple[3:] # it will start from 3rd index till end"
   ]
  },
  {
   "cell_type": "code",
   "execution_count": 41,
   "id": "2ba0fc90-018a-4fe0-ae32-454356dcb80a",
   "metadata": {},
   "outputs": [
    {
     "data": {
      "text/plain": [
       "('one', 'two')"
      ]
     },
     "execution_count": 41,
     "metadata": {},
     "output_type": "execute_result"
    }
   ],
   "source": [
    "my_tuple[:-3] "
   ]
  },
  {
   "cell_type": "code",
   "execution_count": 42,
   "id": "27ca9f08-cad1-4063-afe7-e886983f4065",
   "metadata": {},
   "outputs": [
    {
     "data": {
      "text/plain": [
       "('three', 'four', 'five')"
      ]
     },
     "execution_count": 42,
     "metadata": {},
     "output_type": "execute_result"
    }
   ],
   "source": [
    "my_tuple[-3:]  # return last three items"
   ]
  },
  {
   "cell_type": "code",
   "execution_count": 43,
   "id": "75b71f74-a5a3-4cf2-a67e-f4b071ed1e50",
   "metadata": {},
   "outputs": [
    {
     "data": {
      "text/plain": [
       "('one', 'two', 'three', 'four', 'five')"
      ]
     },
     "execution_count": 43,
     "metadata": {},
     "output_type": "execute_result"
    }
   ],
   "source": [
    "my_tuple[:] "
   ]
  },
  {
   "cell_type": "markdown",
   "id": "c687d98a-5384-490f-91db-2e9ded72c8d2",
   "metadata": {},
   "source": [
    "        REMOVE AND CHANGE ITEMS"
   ]
  },
  {
   "cell_type": "code",
   "execution_count": 45,
   "id": "35596987-3317-4ab8-9ac9-8e838a806692",
   "metadata": {},
   "outputs": [
    {
     "data": {
      "text/plain": [
       "('one', 'two', 'three', 'four', 'five')"
      ]
     },
     "execution_count": 45,
     "metadata": {},
     "output_type": "execute_result"
    }
   ],
   "source": [
    "my_tuple"
   ]
  },
  {
   "cell_type": "code",
   "execution_count": 48,
   "id": "b48b9942-50e5-40aa-b551-e7814102a806",
   "metadata": {},
   "outputs": [
    {
     "ename": "AttributeError",
     "evalue": "'tuple' object has no attribute 'append'",
     "output_type": "error",
     "traceback": [
      "\u001b[0;31m---------------------------------------------------------------------------\u001b[0m",
      "\u001b[0;31mAttributeError\u001b[0m                            Traceback (most recent call last)",
      "Cell \u001b[0;32mIn[48], line 1\u001b[0m\n\u001b[0;32m----> 1\u001b[0m my_tuple\u001b[38;5;241m.\u001b[39mappend(\u001b[38;5;124m'\u001b[39m\u001b[38;5;124msix\u001b[39m\u001b[38;5;124m'\u001b[39m, \u001b[38;5;124m'\u001b[39m\u001b[38;5;124mseven\u001b[39m\u001b[38;5;124m'\u001b[39m)\n",
      "\u001b[0;31mAttributeError\u001b[0m: 'tuple' object has no attribute 'append'"
     ]
    }
   ],
   "source": [
    "my_tuple.append('six', 'seven')  #tuple is immutable "
   ]
  },
  {
   "cell_type": "code",
   "execution_count": 49,
   "id": "05032672-245d-4552-b06c-d3d759c7b222",
   "metadata": {},
   "outputs": [
    {
     "ename": "TypeError",
     "evalue": "'tuple' object doesn't support item deletion",
     "output_type": "error",
     "traceback": [
      "\u001b[0;31m---------------------------------------------------------------------------\u001b[0m",
      "\u001b[0;31mTypeError\u001b[0m                                 Traceback (most recent call last)",
      "Cell \u001b[0;32mIn[49], line 1\u001b[0m\n\u001b[0;32m----> 1\u001b[0m \u001b[38;5;28;01mdel\u001b[39;00m my_tuple[\u001b[38;5;241m0\u001b[39m]\n",
      "\u001b[0;31mTypeError\u001b[0m: 'tuple' object doesn't support item deletion"
     ]
    }
   ],
   "source": [
    "del my_tuple[0]"
   ]
  },
  {
   "cell_type": "code",
   "execution_count": 50,
   "id": "fe29088e-0a67-4dfc-a27d-e122ce3a3578",
   "metadata": {},
   "outputs": [],
   "source": [
    "del my_tuple #delete entire tuple is possible"
   ]
  },
  {
   "cell_type": "code",
   "execution_count": 51,
   "id": "d1117206-3c94-4a7b-95cc-d38f6d87021c",
   "metadata": {},
   "outputs": [
    {
     "ename": "NameError",
     "evalue": "name 'my_tuple' is not defined",
     "output_type": "error",
     "traceback": [
      "\u001b[0;31m---------------------------------------------------------------------------\u001b[0m",
      "\u001b[0;31mNameError\u001b[0m                                 Traceback (most recent call last)",
      "Cell \u001b[0;32mIn[51], line 1\u001b[0m\n\u001b[0;32m----> 1\u001b[0m my_tuple\n",
      "\u001b[0;31mNameError\u001b[0m: name 'my_tuple' is not defined"
     ]
    }
   ],
   "source": [
    "my_tuple"
   ]
  },
  {
   "cell_type": "markdown",
   "id": "2661378c-99af-4c70-bff7-1a7993d12bb6",
   "metadata": {},
   "source": [
    "        LOOP THROUGH A TUPPLE"
   ]
  },
  {
   "cell_type": "code",
   "execution_count": 52,
   "id": "221fc12e-d731-4447-9607-6284dca1f78a",
   "metadata": {},
   "outputs": [
    {
     "ename": "NameError",
     "evalue": "name 'my_tuple' is not defined",
     "output_type": "error",
     "traceback": [
      "\u001b[0;31m---------------------------------------------------------------------------\u001b[0m",
      "\u001b[0;31mNameError\u001b[0m                                 Traceback (most recent call last)",
      "Cell \u001b[0;32mIn[52], line 1\u001b[0m\n\u001b[0;32m----> 1\u001b[0m my_tuple\n",
      "\u001b[0;31mNameError\u001b[0m: name 'my_tuple' is not defined"
     ]
    }
   ],
   "source": [
    "my_tuple"
   ]
  },
  {
   "cell_type": "code",
   "execution_count": 54,
   "id": "599508f1-c167-4dc5-9635-c2f26849a844",
   "metadata": {},
   "outputs": [
    {
     "data": {
      "text/plain": [
       "('one', 'two', 'three', 'four', 'five', 'six', 'seven', 'eight')"
      ]
     },
     "execution_count": 54,
     "metadata": {},
     "output_type": "execute_result"
    }
   ],
   "source": [
    "my_tuple= ('one', 'two', 'three', 'four', 'five', 'six', 'seven', 'eight')\n",
    "my_tuple"
   ]
  },
  {
   "cell_type": "code",
   "execution_count": 56,
   "id": "6e036f41-baf7-4431-9474-05453d1ef984",
   "metadata": {},
   "outputs": [
    {
     "name": "stdout",
     "output_type": "stream",
     "text": [
      "one\n",
      "two\n",
      "three\n",
      "four\n",
      "five\n",
      "six\n",
      "seven\n",
      "eight\n"
     ]
    }
   ],
   "source": [
    "for i in my_tuple:\n",
    "    print(i)"
   ]
  },
  {
   "cell_type": "markdown",
   "id": "0e5c023c-2676-491b-9f37-92d513063116",
   "metadata": {},
   "source": [
    "    TUPLE MEMBERSHIP"
   ]
  },
  {
   "cell_type": "code",
   "execution_count": 57,
   "id": "02144f8d-c727-49e9-9f07-7e600bb2448d",
   "metadata": {},
   "outputs": [
    {
     "data": {
      "text/plain": [
       "('one', 'two', 'three', 'four', 'five', 'six', 'seven', 'eight')"
      ]
     },
     "execution_count": 57,
     "metadata": {},
     "output_type": "execute_result"
    }
   ],
   "source": [
    "my_tuple"
   ]
  },
  {
   "cell_type": "code",
   "execution_count": 58,
   "id": "845c6446-9020-47b7-a04a-61541df0aabb",
   "metadata": {},
   "outputs": [
    {
     "data": {
      "text/plain": [
       "True"
      ]
     },
     "execution_count": 58,
     "metadata": {},
     "output_type": "execute_result"
    }
   ],
   "source": [
    "'one' in my_tuple #check if one exist in the list"
   ]
  },
  {
   "cell_type": "code",
   "execution_count": 59,
   "id": "d3effca2-e188-457e-8d7e-ab13c97dea63",
   "metadata": {},
   "outputs": [
    {
     "data": {
      "text/plain": [
       "False"
      ]
     },
     "execution_count": 59,
     "metadata": {},
     "output_type": "execute_result"
    }
   ],
   "source": [
    "'nine' in my_tuple"
   ]
  },
  {
   "cell_type": "code",
   "execution_count": 62,
   "id": "5cd283b0-c61d-4f40-8d7b-ea7d6e851573",
   "metadata": {},
   "outputs": [
    {
     "name": "stdout",
     "output_type": "stream",
     "text": [
      "Three is present in the tuple\n"
     ]
    }
   ],
   "source": [
    "if 'three' in my_tuple:   #check if three exist in the list\n",
    "    print(\"Three is present in the tuple\")\n",
    "else:\n",
    "    print(\"Three is not present in the tuple\")\n"
   ]
  },
  {
   "cell_type": "markdown",
   "id": "630b48b7-5281-4eb3-9544-f01085d4c246",
   "metadata": {},
   "source": [
    "    INDEX POSITION"
   ]
  },
  {
   "cell_type": "code",
   "execution_count": 63,
   "id": "03a33c89-d829-4b01-8ea8-2b5cc3fbc66b",
   "metadata": {},
   "outputs": [
    {
     "data": {
      "text/plain": [
       "('one', 'two', 'three', 'four', 'five', 'six', 'seven', 'eight')"
      ]
     },
     "execution_count": 63,
     "metadata": {},
     "output_type": "execute_result"
    }
   ],
   "source": [
    "my_tuple"
   ]
  },
  {
   "cell_type": "code",
   "execution_count": 65,
   "id": "b836cc29-ce23-4c4d-a419-75c0d953de23",
   "metadata": {},
   "outputs": [
    {
     "data": {
      "text/plain": [
       "2"
      ]
     },
     "execution_count": 65,
     "metadata": {},
     "output_type": "execute_result"
    }
   ],
   "source": [
    "my_tuple.index('three')"
   ]
  },
  {
   "cell_type": "code",
   "execution_count": 66,
   "id": "70eb3969-11c1-4d68-b33e-0212915680f3",
   "metadata": {},
   "outputs": [
    {
     "data": {
      "text/plain": [
       "6"
      ]
     },
     "execution_count": 66,
     "metadata": {},
     "output_type": "execute_result"
    }
   ],
   "source": [
    "my_tuple.index('seven')"
   ]
  },
  {
   "cell_type": "code",
   "execution_count": 67,
   "id": "59681178-2d6c-47c9-bff3-4cb73bbe5588",
   "metadata": {},
   "outputs": [
    {
     "data": {
      "text/plain": [
       "0"
      ]
     },
     "execution_count": 67,
     "metadata": {},
     "output_type": "execute_result"
    }
   ],
   "source": [
    "my_tuple.index('one')"
   ]
  },
  {
   "cell_type": "code",
   "execution_count": null,
   "id": "2b973f39-253d-46a6-9c27-1c139fb9e8f3",
   "metadata": {},
   "outputs": [],
   "source": []
  },
  {
   "cell_type": "code",
   "execution_count": null,
   "id": "c096cc14-94f2-4b6e-9b92-3f3332a6da8a",
   "metadata": {},
   "outputs": [],
   "source": []
  },
  {
   "cell_type": "code",
   "execution_count": null,
   "id": "adf22546-5709-4e03-9564-6f929eeac085",
   "metadata": {},
   "outputs": [],
   "source": []
  },
  {
   "cell_type": "code",
   "execution_count": null,
   "id": "252a94fd-493f-4a93-a521-548b3f8277e2",
   "metadata": {},
   "outputs": [],
   "source": []
  },
  {
   "cell_type": "code",
   "execution_count": null,
   "id": "57157081-9919-4967-b7b7-d84267b74d05",
   "metadata": {},
   "outputs": [],
   "source": []
  }
 ],
 "metadata": {
  "kernelspec": {
   "display_name": "Python 3 (ipykernel)",
   "language": "python",
   "name": "python3"
  },
  "language_info": {
   "codemirror_mode": {
    "name": "ipython",
    "version": 3
   },
   "file_extension": ".py",
   "mimetype": "text/x-python",
   "name": "python",
   "nbconvert_exporter": "python",
   "pygments_lexer": "ipython3",
   "version": "3.13.5"
  }
 },
 "nbformat": 4,
 "nbformat_minor": 5
}
