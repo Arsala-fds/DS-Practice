{
 "cells": [
  {
   "cell_type": "markdown",
   "id": "a76b2687-0171-41fc-941d-c5b657277987",
   "metadata": {},
   "source": [
    "        DICTIONARY"
   ]
  },
  {
   "cell_type": "code",
   "execution_count": 1,
   "id": "81933b2e-34ad-4a19-b899-8dfcd50dbe6d",
   "metadata": {},
   "outputs": [
    {
     "data": {
      "text/plain": [
       "{}"
      ]
     },
     "execution_count": 1,
     "metadata": {},
     "output_type": "execute_result"
    }
   ],
   "source": [
    "d = {}\n",
    "d"
   ]
  },
  {
   "cell_type": "code",
   "execution_count": 2,
   "id": "b180dda7-441b-4e0a-9e51-5ade413015eb",
   "metadata": {},
   "outputs": [
    {
     "data": {
      "text/plain": [
       "dict"
      ]
     },
     "execution_count": 2,
     "metadata": {},
     "output_type": "execute_result"
    }
   ],
   "source": [
    "type(d)"
   ]
  },
  {
   "cell_type": "code",
   "execution_count": 4,
   "id": "580b4f5b-c7fa-4c94-ae44-1360d00b17d0",
   "metadata": {},
   "outputs": [
    {
     "data": {
      "text/plain": [
       "{1: 'one', 2: 'two', 3: 'three'}"
      ]
     },
     "execution_count": 4,
     "metadata": {},
     "output_type": "execute_result"
    }
   ],
   "source": [
    "d = {1:'one', 2: 'two', 3: 'three'}\n",
    "d"
   ]
  },
  {
   "cell_type": "code",
   "execution_count": 8,
   "id": "a6f1c055-c4b2-4c36-be09-7403e1228722",
   "metadata": {},
   "outputs": [
    {
     "data": {
      "text/plain": [
       "{'A': 'one', 'B': 'two', 'C': 'Three'}"
      ]
     },
     "execution_count": 8,
     "metadata": {},
     "output_type": "execute_result"
    }
   ],
   "source": [
    "d = {'A':'one', 'B':'two', 'C':'Three'} #dictionary with character key\n",
    "d"
   ]
  },
  {
   "cell_type": "code",
   "execution_count": 12,
   "id": "e0c8f88b-31b8-4a01-ade0-23214ad21b33",
   "metadata": {},
   "outputs": [
    {
     "data": {
      "text/plain": [
       "{'A': 'one', 2: 'two', 3: 'Three'}"
      ]
     },
     "execution_count": 12,
     "metadata": {},
     "output_type": "execute_result"
    }
   ],
   "source": [
    "d1 = {'A': 'one', 2: 'two', 3: 'Three'} #dictionary with mixed keys\n",
    "d"
   ]
  },
  {
   "cell_type": "code",
   "execution_count": 13,
   "id": "ef2c209e-9c9b-4e48-86e5-2bac4ab2491f",
   "metadata": {},
   "outputs": [
    {
     "data": {
      "text/plain": [
       "dict_keys(['A', 2, 3])"
      ]
     },
     "execution_count": 13,
     "metadata": {},
     "output_type": "execute_result"
    }
   ],
   "source": [
    "d1.keys(). #Return dictionary keys using keys() method"
   ]
  },
  {
   "cell_type": "code",
   "execution_count": 15,
   "id": "c9cd887f-16d7-402e-ad11-b2736be1b955",
   "metadata": {},
   "outputs": [
    {
     "data": {
      "text/plain": [
       "dict_values(['one', 'two', 'Three'])"
      ]
     },
     "execution_count": 15,
     "metadata": {},
     "output_type": "execute_result"
    }
   ],
   "source": [
    "d1.values() #Return dictionary values using keys() method"
   ]
  },
  {
   "cell_type": "code",
   "execution_count": 16,
   "id": "6cf9bbc8-8c07-45ba-8957-8321aff3bffe",
   "metadata": {},
   "outputs": [
    {
     "data": {
      "text/plain": [
       "dict_items([('A', 'one'), (2, 'two'), (3, 'Three')])"
      ]
     },
     "execution_count": 16,
     "metadata": {},
     "output_type": "execute_result"
    }
   ],
   "source": [
    "d1.items()"
   ]
  },
  {
   "cell_type": "code",
   "execution_count": 17,
   "id": "bb61ff38-a669-4a1d-9cbc-bde4c488c101",
   "metadata": {},
   "outputs": [
    {
     "data": {
      "text/plain": [
       "{1: 'one', 2: 'two', 'A': ['python', 'stack', 'dataScience']}"
      ]
     },
     "execution_count": 17,
     "metadata": {},
     "output_type": "execute_result"
    }
   ],
   "source": [
    "d2 = {1:'one', 2:'two', 'A': ['python', 'stack', 'dataScience'] } #dictionary with list\n",
    "d2"
   ]
  },
  {
   "cell_type": "code",
   "execution_count": 20,
   "id": "5faaed8a-0829-41f1-a3d9-786537e209b0",
   "metadata": {},
   "outputs": [
    {
     "data": {
      "text/plain": [
       "{1: 'one', 2: 'two', 'A': ['python', 'stack', 'dataScience']}"
      ]
     },
     "execution_count": 20,
     "metadata": {},
     "output_type": "execute_result"
    }
   ],
   "source": [
    "d2 = {1:'one', 2:'two', 'A': ['python', 'stack', 'dataScience'] }\n",
    "d2"
   ]
  },
  {
   "cell_type": "code",
   "execution_count": 21,
   "id": "250ff7e5-ed8e-4e0f-8325-6564f97f9f20",
   "metadata": {},
   "outputs": [
    {
     "data": {
      "text/plain": [
       "{1: 'one', 2: 'two', 'A': ['python', 'stack', 'dataScience']}"
      ]
     },
     "execution_count": 21,
     "metadata": {},
     "output_type": "execute_result"
    }
   ],
   "source": [
    "d2"
   ]
  },
  {
   "cell_type": "code",
   "execution_count": 22,
   "id": "614f420f-dd53-4bba-b875-47d767dd7295",
   "metadata": {},
   "outputs": [
    {
     "data": {
      "text/plain": [
       "dict_keys([1, 2, 'A'])"
      ]
     },
     "execution_count": 22,
     "metadata": {},
     "output_type": "execute_result"
    }
   ],
   "source": [
    "d2.keys()"
   ]
  },
  {
   "cell_type": "code",
   "execution_count": 23,
   "id": "aa8db4a9-aac2-49e2-b17a-f806a4f6c334",
   "metadata": {},
   "outputs": [
    {
     "data": {
      "text/plain": [
       "dict_items([(1, 'one'), (2, 'two'), ('A', ['python', 'stack', 'dataScience'])])"
      ]
     },
     "execution_count": 23,
     "metadata": {},
     "output_type": "execute_result"
    }
   ],
   "source": [
    "d2.items()"
   ]
  },
  {
   "cell_type": "code",
   "execution_count": 24,
   "id": "b4e50a05-859d-49e1-a6a0-d8d3becd1712",
   "metadata": {},
   "outputs": [
    {
     "data": {
      "text/plain": [
       "dict_values(['one', 'two', ['python', 'stack', 'dataScience']])"
      ]
     },
     "execution_count": 24,
     "metadata": {},
     "output_type": "execute_result"
    }
   ],
   "source": [
    "d2.values()"
   ]
  },
  {
   "cell_type": "code",
   "execution_count": 30,
   "id": "142ccdc0-67db-4cc9-aec2-001ff3b92846",
   "metadata": {},
   "outputs": [
    {
     "data": {
      "text/plain": [
       "{'a': None, 'd': None, 'c': None, 'b': None}"
      ]
     },
     "execution_count": 30,
     "metadata": {},
     "output_type": "execute_result"
    }
   ],
   "source": [
    "keys = {'a', 'b', 'c', 'd'}\n",
    "d3 = dict.fromkeys(keys) #keys ki help sai dictionary bnaya hai\n",
    "d3"
   ]
  },
  {
   "cell_type": "code",
   "execution_count": 33,
   "id": "cdab0618-1391-42f9-81f7-91abe2409dc5",
   "metadata": {},
   "outputs": [
    {
     "data": {
      "text/plain": [
       "{'a': 10, 'd': 10, 'c': 10, 'b': 10}"
      ]
     },
     "execution_count": 33,
     "metadata": {},
     "output_type": "execute_result"
    }
   ],
   "source": [
    "keys = {'a', 'b', 'c', 'd'}  #keys and value put krke dictionary bnaya hai\n",
    "value = 10\n",
    "d4 = dict.fromkeys(keys, value)\n",
    "d4"
   ]
  },
  {
   "cell_type": "code",
   "execution_count": 35,
   "id": "1b605c3d-5a1c-431d-baa4-013238c68633",
   "metadata": {},
   "outputs": [
    {
     "data": {
      "text/plain": [
       "{'a': [10, 20, 30, 40],\n",
       " 'd': [10, 20, 30, 40],\n",
       " 'c': [10, 20, 30, 40],\n",
       " 'b': [10, 20, 30, 40]}"
      ]
     },
     "execution_count": 35,
     "metadata": {},
     "output_type": "execute_result"
    }
   ],
   "source": [
    "keys = {'a', 'b', 'c', 'd'} \n",
    "value = [10, 20, 30, 40]\n",
    "d5 = dict.fromkeys(keys, value)\n",
    "d5"
   ]
  },
  {
   "cell_type": "code",
   "execution_count": 37,
   "id": "d9200439-043d-423e-aa9b-56f3a1871390",
   "metadata": {},
   "outputs": [
    {
     "data": {
      "text/plain": [
       "{'a': [10, 20, 30, 40, 40, 60],\n",
       " 'd': [10, 20, 30, 40, 40, 60],\n",
       " 'c': [10, 20, 30, 40, 40, 60],\n",
       " 'b': [10, 20, 30, 40, 40, 60]}"
      ]
     },
     "execution_count": 37,
     "metadata": {},
     "output_type": "execute_result"
    }
   ],
   "source": [
    "value.append(60)\n",
    "d5"
   ]
  },
  {
   "cell_type": "markdown",
   "id": "932cf380-9b19-406d-bea8-97c6de5dd936",
   "metadata": {},
   "source": [
    "        Accessing items"
   ]
  },
  {
   "cell_type": "code",
   "execution_count": 40,
   "id": "452d97b0-6648-4d23-b3c2-4c1bf4a89121",
   "metadata": {},
   "outputs": [
    {
     "data": {
      "text/plain": [
       "{1: 'one', 2: 'two', 3: 'Three'}"
      ]
     },
     "execution_count": 40,
     "metadata": {},
     "output_type": "execute_result"
    }
   ],
   "source": [
    "d = {1: 'one', 2: 'two', 3: 'Three'}\n",
    "d"
   ]
  },
  {
   "cell_type": "code",
   "execution_count": 41,
   "id": "ee7d10e9-75dc-4151-881c-a3b5562906a2",
   "metadata": {},
   "outputs": [
    {
     "data": {
      "text/plain": [
       "'one'"
      ]
     },
     "execution_count": 41,
     "metadata": {},
     "output_type": "execute_result"
    }
   ],
   "source": [
    "d[1] #Access item using key(only value will print )"
   ]
  },
  {
   "cell_type": "code",
   "execution_count": 42,
   "id": "69e334ad-85ae-41f3-b592-ecb180c15351",
   "metadata": {},
   "outputs": [
    {
     "ename": "KeyError",
     "evalue": "0",
     "output_type": "error",
     "traceback": [
      "\u001b[0;31m---------------------------------------------------------------------------\u001b[0m",
      "\u001b[0;31mKeyError\u001b[0m                                  Traceback (most recent call last)",
      "Cell \u001b[0;32mIn[42], line 1\u001b[0m\n\u001b[0;32m----> 1\u001b[0m d[\u001b[38;5;241m0\u001b[39m]\n",
      "\u001b[0;31mKeyError\u001b[0m: 0"
     ]
    }
   ],
   "source": [
    "d[0]"
   ]
  },
  {
   "cell_type": "code",
   "execution_count": 45,
   "id": "2ee449b5-533c-42c2-bcdd-81639d07e251",
   "metadata": {},
   "outputs": [
    {
     "data": {
      "text/plain": [
       "'Three'"
      ]
     },
     "execution_count": 45,
     "metadata": {},
     "output_type": "execute_result"
    }
   ],
   "source": [
    "d[3]"
   ]
  },
  {
   "cell_type": "code",
   "execution_count": 44,
   "id": "fda521c0-d0f7-4b15-ac73-8a0ae772abaa",
   "metadata": {},
   "outputs": [
    {
     "ename": "KeyError",
     "evalue": "4",
     "output_type": "error",
     "traceback": [
      "\u001b[0;31m---------------------------------------------------------------------------\u001b[0m",
      "\u001b[0;31mKeyError\u001b[0m                                  Traceback (most recent call last)",
      "Cell \u001b[0;32mIn[44], line 1\u001b[0m\n\u001b[0;32m----> 1\u001b[0m d[\u001b[38;5;241m4\u001b[39m]\n",
      "\u001b[0;31mKeyError\u001b[0m: 4"
     ]
    }
   ],
   "source": [
    "d[4]"
   ]
  },
  {
   "cell_type": "code",
   "execution_count": 46,
   "id": "0c95b79d-0032-40b6-92b6-96f4d84f3d9e",
   "metadata": {},
   "outputs": [
    {
     "data": {
      "text/plain": [
       "'one'"
      ]
     },
     "execution_count": 46,
     "metadata": {},
     "output_type": "execute_result"
    }
   ],
   "source": [
    "d.get(1)"
   ]
  },
  {
   "cell_type": "code",
   "execution_count": 48,
   "id": "c6b862de-d0e8-4ae0-be6d-372b4bf5a0c7",
   "metadata": {},
   "outputs": [
    {
     "data": {
      "text/plain": [
       "{'name': 'xyz', 'ID': 7412, 'DOB': 1991, 'job': 'Analyst'}"
      ]
     },
     "execution_count": 48,
     "metadata": {},
     "output_type": "execute_result"
    }
   ],
   "source": [
    "d1 = {'name': 'xyz','ID': 7412,'DOB': 1991, 'job': 'Analyst'}\n",
    "d1"
   ]
  },
  {
   "cell_type": "code",
   "execution_count": 49,
   "id": "98942941-9743-4f3f-b95a-d1465a64fceb",
   "metadata": {},
   "outputs": [
    {
     "data": {
      "text/plain": [
       "'xyz'"
      ]
     },
     "execution_count": 49,
     "metadata": {},
     "output_type": "execute_result"
    }
   ],
   "source": [
    "d1['name']  #Access item using keys"
   ]
  },
  {
   "cell_type": "code",
   "execution_count": 50,
   "id": "e72628c9-be7a-4534-aefb-763897650d89",
   "metadata": {},
   "outputs": [
    {
     "data": {
      "text/plain": [
       "'Analyst'"
      ]
     },
     "execution_count": 50,
     "metadata": {},
     "output_type": "execute_result"
    }
   ],
   "source": [
    "d1.get('job') #Access item using get() method"
   ]
  },
  {
   "cell_type": "markdown",
   "id": "d845aa07-f697-41b3-8e23-abf6e22bc3f9",
   "metadata": {},
   "source": [
    "        Add, Remove and changes items"
   ]
  },
  {
   "cell_type": "code",
   "execution_count": 51,
   "id": "725a5df3-8805-43d0-b0d9-0a6f8bbec7d2",
   "metadata": {},
   "outputs": [
    {
     "data": {
      "text/plain": [
       "{'name': 'xyz', 'ID': 7412, 'DOB': 1991, 'job': 'Analyst'}"
      ]
     },
     "execution_count": 51,
     "metadata": {},
     "output_type": "execute_result"
    }
   ],
   "source": [
    "d1"
   ]
  },
  {
   "cell_type": "code",
   "execution_count": 54,
   "id": "4fc6c953-4ab5-40de-ba63-25bf1fd96b0f",
   "metadata": {},
   "outputs": [
    {
     "data": {
      "text/plain": [
       "{'name': 'xyz', 'ID': 7412, 'DOB': 2006, 'job': 'DataScienctist'}"
      ]
     },
     "execution_count": 54,
     "metadata": {},
     "output_type": "execute_result"
    }
   ],
   "source": [
    "d1['DOB'] = 2006  #changing dictionary items\n",
    "d1['job'] = 'DataScienctist'\n",
    "d1"
   ]
  },
  {
   "cell_type": "code",
   "execution_count": 55,
   "id": "e164a5a7-ade1-4dae-a270-b21389a888ab",
   "metadata": {},
   "outputs": [
    {
     "data": {
      "text/plain": [
       "{'name': 'xyz', 'ID': 7412, 'DOB': 2006, 'job': 'Analyst'}"
      ]
     },
     "execution_count": 55,
     "metadata": {},
     "output_type": "execute_result"
    }
   ],
   "source": [
    "d1['job'] = 'Analyst'  #Adding items\n",
    "d1"
   ]
  },
  {
   "cell_type": "code",
   "execution_count": 56,
   "id": "721760ce-ad15-4ef6-937d-e6be2c53f566",
   "metadata": {},
   "outputs": [
    {
     "data": {
      "text/plain": [
       "{'name': 'xyz', 'ID': 7412, 'DOB': 2006}"
      ]
     },
     "execution_count": 56,
     "metadata": {},
     "output_type": "execute_result"
    }
   ],
   "source": [
    "d1.pop('job') #A random item is removed\n",
    "d1"
   ]
  },
  {
   "cell_type": "code",
   "execution_count": 61,
   "id": "7b1cfd32-0a5b-4edf-9bb6-831333f81513",
   "metadata": {},
   "outputs": [
    {
     "ename": "KeyError",
     "evalue": "'ID'",
     "output_type": "error",
     "traceback": [
      "\u001b[0;31m---------------------------------------------------------------------------\u001b[0m",
      "\u001b[0;31mKeyError\u001b[0m                                  Traceback (most recent call last)",
      "Cell \u001b[0;32mIn[61], line 1\u001b[0m\n\u001b[0;32m----> 1\u001b[0m \u001b[38;5;28;01mdel\u001b[39;00m d1[\u001b[38;5;124m'\u001b[39m\u001b[38;5;124mID\u001b[39m\u001b[38;5;124m'\u001b[39m]\n\u001b[1;32m      2\u001b[0m \u001b[38;5;66;03m#Removing items using delete method\u001b[39;00m\n\u001b[1;32m      3\u001b[0m d1\n",
      "\u001b[0;31mKeyError\u001b[0m: 'ID'"
     ]
    }
   ],
   "source": [
    "del d1['ID']. #Removing items using delete method\n",
    "d1"
   ]
  },
  {
   "cell_type": "code",
   "execution_count": 63,
   "id": "b5d445bb-feb0-43e2-af48-f55ab425f849",
   "metadata": {},
   "outputs": [
    {
     "data": {
      "text/plain": [
       "{}"
      ]
     },
     "execution_count": 63,
     "metadata": {},
     "output_type": "execute_result"
    }
   ],
   "source": [
    "d1.clear()\n",
    "d1"
   ]
  },
  {
   "cell_type": "markdown",
   "id": "b4614fc5-24d7-4560-937a-49e0c5c5265c",
   "metadata": {},
   "source": [
    "    Copy dictionary"
   ]
  },
  {
   "cell_type": "code",
   "execution_count": 66,
   "id": "993f5086-bcd4-4dbc-91ce-5bc46336cc3b",
   "metadata": {},
   "outputs": [
    {
     "data": {
      "text/plain": [
       "{'Name': 'Asif', 'ID': 12345, 'DOB': 1991, 'Address': 'Hilsinki'}"
      ]
     },
     "execution_count": 66,
     "metadata": {},
     "output_type": "execute_result"
    }
   ],
   "source": [
    "md = {'Name':'Asif' , 'ID': 12345 , 'DOB': 1991 , 'Address' : 'Hilsinki'}\n",
    "mydict"
   ]
  },
  {
   "cell_type": "code",
   "execution_count": 68,
   "id": "227d36e5-410a-49ed-96db-350b4b558700",
   "metadata": {},
   "outputs": [
    {
     "data": {
      "text/plain": [
       "{'Name': 'Asif', 'ID': 12345, 'DOB': 1991, 'Address': 'Hilsinki'}"
      ]
     },
     "execution_count": 68,
     "metadata": {},
     "output_type": "execute_result"
    }
   ],
   "source": [
    "md1 = md #Create a new reference  \"md1\"\n",
    "md1"
   ]
  },
  {
   "cell_type": "code",
   "execution_count": 69,
   "id": "e1ced72d-d0a0-4393-b1c8-0df2a6e9e4d2",
   "metadata": {},
   "outputs": [
    {
     "data": {
      "text/plain": [
       "(4741275776, 4741275776)"
      ]
     },
     "execution_count": 69,
     "metadata": {},
     "output_type": "execute_result"
    }
   ],
   "source": [
    "id(md), id(md1) #Adress of both the id is same"
   ]
  },
  {
   "cell_type": "code",
   "execution_count": 70,
   "id": "978ba4dc-9af4-4971-b3e3-7599a0c6e721",
   "metadata": {},
   "outputs": [],
   "source": [
    "md1 = md.copy() #Create a copy of a dictionary"
   ]
  },
  {
   "cell_type": "code",
   "execution_count": 71,
   "id": "205a3c2c-e181-4e0f-944b-c21b7881bf9b",
   "metadata": {},
   "outputs": [
    {
     "data": {
      "text/plain": [
       "4741460352"
      ]
     },
     "execution_count": 71,
     "metadata": {},
     "output_type": "execute_result"
    }
   ],
   "source": [
    "id(md1)"
   ]
  },
  {
   "cell_type": "code",
   "execution_count": 75,
   "id": "f80ad259-e0f3-409f-b3d1-a0f185a9ad32",
   "metadata": {},
   "outputs": [
    {
     "data": {
      "text/plain": [
       "{'Name': 'Asif',\n",
       " 'ID': 12345,\n",
       " 'DOB': 1991,\n",
       " 'Address': 'Mumbai',\n",
       " 'Adress': 'Mumbai'}"
      ]
     },
     "execution_count": 75,
     "metadata": {},
     "output_type": "execute_result"
    }
   ],
   "source": [
    "md['Address'] = 'Mumbai'\n",
    "md"
   ]
  },
  {
   "cell_type": "code",
   "execution_count": 76,
   "id": "b66fd51c-f417-4547-9090-155efe8a48bb",
   "metadata": {},
   "outputs": [
    {
     "data": {
      "text/plain": [
       "{'Name': 'Asif',\n",
       " 'ID': 12345,\n",
       " 'DOB': 1991,\n",
       " 'Address': 'Mumbai',\n",
       " 'Adress': 'Mumbai'}"
      ]
     },
     "execution_count": 76,
     "metadata": {},
     "output_type": "execute_result"
    }
   ],
   "source": [
    "md['Address'] = 'Mumbai'\n",
    "md"
   ]
  },
  {
   "cell_type": "code",
   "execution_count": 77,
   "id": "a560f6d5-43be-433a-82cf-1148785a7fe1",
   "metadata": {},
   "outputs": [
    {
     "data": {
      "text/plain": [
       "{'Name': 'Asif', 'ID': 12345, 'DOB': 1991, 'Address': 'Hilsinki'}"
      ]
     },
     "execution_count": 77,
     "metadata": {},
     "output_type": "execute_result"
    }
   ],
   "source": [
    "md1"
   ]
  },
  {
   "cell_type": "code",
   "execution_count": null,
   "id": "e2963ec2-875a-422d-8abd-f917f5e91a4d",
   "metadata": {},
   "outputs": [],
   "source": []
  },
  {
   "cell_type": "code",
   "execution_count": null,
   "id": "d43a92ea-2089-47fe-83ad-82fdbdf87b69",
   "metadata": {},
   "outputs": [],
   "source": []
  },
  {
   "cell_type": "code",
   "execution_count": null,
   "id": "ae6877d6-357f-4ab4-9eec-5844df75ebf8",
   "metadata": {},
   "outputs": [],
   "source": []
  },
  {
   "cell_type": "code",
   "execution_count": null,
   "id": "0b28bb10-6312-4f40-8207-191b958c8a0f",
   "metadata": {},
   "outputs": [],
   "source": []
  },
  {
   "cell_type": "code",
   "execution_count": null,
   "id": "8ee0717f-0740-4da8-9810-27c9c5bbb419",
   "metadata": {},
   "outputs": [],
   "source": []
  },
  {
   "cell_type": "code",
   "execution_count": null,
   "id": "a4a4b020-2262-4f0a-8eff-1acb0a09df58",
   "metadata": {},
   "outputs": [],
   "source": []
  },
  {
   "cell_type": "code",
   "execution_count": null,
   "id": "ee8e332d-810c-4d64-af1b-41cd6265e4d4",
   "metadata": {},
   "outputs": [],
   "source": []
  },
  {
   "cell_type": "code",
   "execution_count": null,
   "id": "44ca9d83-2d9f-42af-b551-9df663ee9ff1",
   "metadata": {},
   "outputs": [],
   "source": []
  },
  {
   "cell_type": "code",
   "execution_count": null,
   "id": "5af6895a-e66e-4920-b232-f34a926d7e1e",
   "metadata": {},
   "outputs": [],
   "source": []
  },
  {
   "cell_type": "code",
   "execution_count": null,
   "id": "cd5688c3-cf29-4081-8118-cb253797ef1c",
   "metadata": {},
   "outputs": [],
   "source": []
  }
 ],
 "metadata": {
  "kernelspec": {
   "display_name": "Python 3 (ipykernel)",
   "language": "python",
   "name": "python3"
  },
  "language_info": {
   "codemirror_mode": {
    "name": "ipython",
    "version": 3
   },
   "file_extension": ".py",
   "mimetype": "text/x-python",
   "name": "python",
   "nbconvert_exporter": "python",
   "pygments_lexer": "ipython3",
   "version": "3.13.5"
  }
 },
 "nbformat": 4,
 "nbformat_minor": 5
}
