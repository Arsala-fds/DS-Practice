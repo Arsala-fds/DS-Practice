{
 "cells": [
  {
   "cell_type": "markdown",
   "id": "43e1fbf6-f4b9-4546-a801-98a6b8ce3eeb",
   "metadata": {},
   "source": [
    "            NUMPY"
   ]
  },
  {
   "cell_type": "code",
   "execution_count": 1,
   "id": "186e52ea-a450-4ddd-89b0-e93472bdf240",
   "metadata": {},
   "outputs": [],
   "source": [
    "import numpy as np #import numpy"
   ]
  },
  {
   "cell_type": "code",
   "execution_count": 2,
   "id": "f987eed6-195d-4d3d-a1b0-5b8190365d96",
   "metadata": {},
   "outputs": [
    {
     "data": {
      "text/plain": [
       "'2.1.3'"
      ]
     },
     "execution_count": 2,
     "metadata": {},
     "output_type": "execute_result"
    }
   ],
   "source": [
    "np.__version__"
   ]
  },
  {
   "cell_type": "code",
   "execution_count": 3,
   "id": "64bff5f6-ca06-4898-9863-7453321a2350",
   "metadata": {},
   "outputs": [
    {
     "data": {
      "text/plain": [
       "[1, 2, 3, 4, 5, 6]"
      ]
     },
     "execution_count": 3,
     "metadata": {},
     "output_type": "execute_result"
    }
   ],
   "source": [
    "l1 = [1,2,3,4,5,6]\n",
    "l1"
   ]
  },
  {
   "cell_type": "markdown",
   "id": "79f800cd-43c4-4923-b667-eaea19d7e6e5",
   "metadata": {},
   "source": [
    "    NumPy ndarray"
   ]
  },
  {
   "cell_type": "code",
   "execution_count": 5,
   "id": "4aded26e-c3be-466e-b0a0-c1f809b4a479",
   "metadata": {},
   "outputs": [
    {
     "data": {
      "text/plain": [
       "array([1, 2, 3, 4, 5, 6])"
      ]
     },
     "execution_count": 5,
     "metadata": {},
     "output_type": "execute_result"
    }
   ],
   "source": [
    "ar1 = np.array(l1)\n",
    "ar1"
   ]
  },
  {
   "cell_type": "code",
   "execution_count": 6,
   "id": "579ece15-6966-436d-a05e-9fa6f58baf38",
   "metadata": {},
   "outputs": [
    {
     "name": "stdout",
     "output_type": "stream",
     "text": [
      "<class 'numpy.ndarray'>\n"
     ]
    }
   ],
   "source": [
    "print(type(ar1))"
   ]
  },
  {
   "cell_type": "markdown",
   "id": "b617e471-81ce-49d8-b877-998f90949823",
   "metadata": {},
   "source": [
    "    arange method"
   ]
  },
  {
   "cell_type": "code",
   "execution_count": 14,
   "id": "ca41d05d-e7a5-444c-ae14-5f9bd6cc5b93",
   "metadata": {},
   "outputs": [
    {
     "data": {
      "text/plain": [
       "array([0, 1, 2, 3, 4, 5, 6, 7, 8, 9])"
      ]
     },
     "execution_count": 14,
     "metadata": {},
     "output_type": "execute_result"
    }
   ],
   "source": [
    "np.arange(10)  #starting value: 0  stepping value: 1 end value: 10-1"
   ]
  },
  {
   "cell_type": "code",
   "execution_count": 15,
   "id": "9b463c55-350d-491d-a31c-af9d49c77fa4",
   "metadata": {},
   "outputs": [
    {
     "data": {
      "text/plain": [
       "array([ 1,  3,  5,  7,  9, 11, 13, 15, 17, 19, 21, 23, 25, 27, 29])"
      ]
     },
     "execution_count": 15,
     "metadata": {},
     "output_type": "execute_result"
    }
   ],
   "source": [
    "np.arange(1, 30, 2) #odd numbers "
   ]
  },
  {
   "cell_type": "code",
   "execution_count": 16,
   "id": "3989e419-c58a-4046-b3c5-e381b8cae7b3",
   "metadata": {},
   "outputs": [
    {
     "data": {
      "text/plain": [
       "array([ 2,  4,  6,  8, 10, 12, 14, 16, 18, 20, 22, 24, 26, 28])"
      ]
     },
     "execution_count": 16,
     "metadata": {},
     "output_type": "execute_result"
    }
   ],
   "source": [
    "np.arange(2,30, 2 ) #even numbers"
   ]
  },
  {
   "cell_type": "code",
   "execution_count": 12,
   "id": "80214c05-1ebe-4ffa-94ec-7a4af29fb7dd",
   "metadata": {},
   "outputs": [
    {
     "data": {
      "text/plain": [
       "array([], dtype=int64)"
      ]
     },
     "execution_count": 12,
     "metadata": {},
     "output_type": "execute_result"
    }
   ],
   "source": [
    "np.arange(30, 10) #starting value: 30  end value: 10 that's why it will give empty array"
   ]
  },
  {
   "cell_type": "code",
   "execution_count": 13,
   "id": "65c7eedd-2895-40bf-b08a-df8b0e448459",
   "metadata": {},
   "outputs": [
    {
     "data": {
      "text/plain": [
       "array([30, 29, 28, 27, 26, 25, 24, 23, 22, 21, 20, 19, 18, 17, 16, 15, 14,\n",
       "       13, 12, 11])"
      ]
     },
     "execution_count": 13,
     "metadata": {},
     "output_type": "execute_result"
    }
   ],
   "source": [
    "np.arange(30,10,-1) # here stepping value is -1"
   ]
  },
  {
   "cell_type": "markdown",
   "id": "8d99258a-b632-4f2e-bd4a-6faede638894",
   "metadata": {},
   "source": [
    "    zeros method"
   ]
  },
  {
   "cell_type": "code",
   "execution_count": 17,
   "id": "53a49876-8270-42c1-9aa5-7bf08310743c",
   "metadata": {},
   "outputs": [
    {
     "data": {
      "text/plain": [
       "array([0., 0., 0., 0., 0.])"
      ]
     },
     "execution_count": 17,
     "metadata": {},
     "output_type": "execute_result"
    }
   ],
   "source": [
    "np.zeros(5) #create an array filled with zeros by default it is float value"
   ]
  },
  {
   "cell_type": "code",
   "execution_count": 18,
   "id": "0c5a5f64-0c69-4029-92d7-00e4cc88c316",
   "metadata": {},
   "outputs": [
    {
     "data": {
      "text/plain": [
       "array([0, 0, 0, 0, 0])"
      ]
     },
     "execution_count": 18,
     "metadata": {},
     "output_type": "execute_result"
    }
   ],
   "source": [
    "np.zeros(5, dtype= 'int')"
   ]
  },
  {
   "cell_type": "code",
   "execution_count": 19,
   "id": "0b234c1f-e55c-4fb1-9a08-2bf967c1741e",
   "metadata": {},
   "outputs": [
    {
     "data": {
      "text/plain": [
       "array([[0., 0., 0.],\n",
       "       [0., 0., 0.],\n",
       "       [0., 0., 0.]])"
      ]
     },
     "execution_count": 19,
     "metadata": {},
     "output_type": "execute_result"
    }
   ],
   "source": [
    "np.zeros([3,3]) #create a 3x3 array filled with zeros"
   ]
  },
  {
   "cell_type": "code",
   "execution_count": 20,
   "id": "6609a4b0-4aed-4802-8e7d-d826a499219c",
   "metadata": {},
   "outputs": [
    {
     "data": {
      "text/plain": [
       "array([[0., 0., 0., 0., 0.],\n",
       "       [0., 0., 0., 0., 0.],\n",
       "       [0., 0., 0., 0., 0.],\n",
       "       [0., 0., 0., 0., 0.],\n",
       "       [0., 0., 0., 0., 0.],\n",
       "       [0., 0., 0., 0., 0.],\n",
       "       [0., 0., 0., 0., 0.],\n",
       "       [0., 0., 0., 0., 0.],\n",
       "       [0., 0., 0., 0., 0.],\n",
       "       [0., 0., 0., 0., 0.]])"
      ]
     },
     "execution_count": 20,
     "metadata": {},
     "output_type": "execute_result"
    }
   ],
   "source": [
    "np.zeros([10,5]) #create a 10x5 array filled with zeros"
   ]
  },
  {
   "cell_type": "code",
   "execution_count": 21,
   "id": "e6ee4a2e-9eaf-4bd8-a9ae-8c5feb0ba3c8",
   "metadata": {},
   "outputs": [
    {
     "data": {
      "text/plain": [
       "array([[0, 0, 0, 0, 0, 0],\n",
       "       [0, 0, 0, 0, 0, 0],\n",
       "       [0, 0, 0, 0, 0, 0]])"
      ]
     },
     "execution_count": 21,
     "metadata": {},
     "output_type": "execute_result"
    }
   ],
   "source": [
    "np.zeros([3,6], dtype= 'int')"
   ]
  },
  {
   "cell_type": "markdown",
   "id": "efbf82e8-9565-44e1-99f5-aca81a593ac5",
   "metadata": {},
   "source": [
    "    ones method"
   ]
  },
  {
   "cell_type": "code",
   "execution_count": 22,
   "id": "b3524d32-ffa0-4b0a-9c00-dee0095bdbfc",
   "metadata": {},
   "outputs": [
    {
     "data": {
      "text/plain": [
       "array([1., 1., 1., 1., 1.])"
      ]
     },
     "execution_count": 22,
     "metadata": {},
     "output_type": "execute_result"
    }
   ],
   "source": [
    "np.ones(5) #array filled with one"
   ]
  },
  {
   "cell_type": "code",
   "execution_count": 23,
   "id": "deb25beb-7c08-48fa-a5dc-e27541adbf80",
   "metadata": {},
   "outputs": [
    {
     "data": {
      "text/plain": [
       "array([[1., 1., 1., 1., 1.],\n",
       "       [1., 1., 1., 1., 1.],\n",
       "       [1., 1., 1., 1., 1.]])"
      ]
     },
     "execution_count": 23,
     "metadata": {},
     "output_type": "execute_result"
    }
   ],
   "source": [
    "np.ones([3,5]) #3x 5 dimension array"
   ]
  },
  {
   "cell_type": "code",
   "execution_count": 24,
   "id": "0b24624d-e53d-4227-80d9-0d75b382dea6",
   "metadata": {},
   "outputs": [
    {
     "data": {
      "text/plain": [
       "array([[1, 1, 1, 1, 1],\n",
       "       [1, 1, 1, 1, 1],\n",
       "       [1, 1, 1, 1, 1]])"
      ]
     },
     "execution_count": 24,
     "metadata": {},
     "output_type": "execute_result"
    }
   ],
   "source": [
    "np.ones([3,5], dtype= int) "
   ]
  },
  {
   "cell_type": "code",
   "execution_count": null,
   "id": "b2eab2c0-0eb0-44a0-8d84-5d9bd3b5bfa4",
   "metadata": {},
   "outputs": [],
   "source": [
    "    random method"
   ]
  },
  {
   "cell_type": "code",
   "execution_count": 25,
   "id": "9d3581e3-499e-461b-9cef-e9a98e9d8242",
   "metadata": {},
   "outputs": [
    {
     "data": {
      "text/plain": [
       "array([[0.26989969, 0.89245172],\n",
       "       [0.70510701, 0.98309912],\n",
       "       [0.73088355, 0.96824591]])"
      ]
     },
     "execution_count": 25,
     "metadata": {},
     "output_type": "execute_result"
    }
   ],
   "source": [
    "np.random.rand(3,2) #generate an array with random numbers"
   ]
  },
  {
   "cell_type": "code",
   "execution_count": 26,
   "id": "9c682fa5-6efc-4ccc-bbc1-11ee526e377e",
   "metadata": {},
   "outputs": [
    {
     "data": {
      "text/plain": [
       "array([0.96436208, 0.3190153 , 0.64793135, 0.48808007, 0.84242821])"
      ]
     },
     "execution_count": 26,
     "metadata": {},
     "output_type": "execute_result"
    }
   ],
   "source": [
    "np.random.rand(5)"
   ]
  },
  {
   "cell_type": "code",
   "execution_count": 27,
   "id": "fb2c28ba-de18-4b84-8471-65e27b158b4c",
   "metadata": {},
   "outputs": [
    {
     "data": {
      "text/plain": [
       "array([[0.7923851 , 0.84677698, 0.25702073, 0.56434987, 0.51975073,\n",
       "        0.09202311, 0.48818138],\n",
       "       [0.78272154, 0.77463189, 0.58961901, 0.62737049, 0.9568778 ,\n",
       "        0.98416205, 0.30160345],\n",
       "       [0.32122181, 0.61015048, 0.88696536, 0.57240646, 0.24430188,\n",
       "        0.85481164, 0.05864836],\n",
       "       [0.5465196 , 0.03795187, 0.16469408, 0.22151803, 0.59040347,\n",
       "        0.72152349, 0.65050451],\n",
       "       [0.79701743, 0.10065755, 0.35600252, 0.53791282, 0.01006066,\n",
       "        0.43343544, 0.87932763]])"
      ]
     },
     "execution_count": 27,
     "metadata": {},
     "output_type": "execute_result"
    }
   ],
   "source": [
    "np.random.rand(5,7)"
   ]
  },
  {
   "cell_type": "code",
   "execution_count": 28,
   "id": "7d31d4e3-23d3-4bf2-8ca8-b5bbb91d0a79",
   "metadata": {},
   "outputs": [
    {
     "data": {
      "text/plain": [
       "3"
      ]
     },
     "execution_count": 28,
     "metadata": {},
     "output_type": "execute_result"
    }
   ],
   "source": [
    "np.random.randint(2,7) #random integer number"
   ]
  },
  {
   "cell_type": "code",
   "execution_count": 29,
   "id": "faa2d81a-d8d2-4d5f-82fe-cff9d055d271",
   "metadata": {},
   "outputs": [
    {
     "data": {
      "text/plain": [
       "array([1, 1])"
      ]
     },
     "execution_count": 29,
     "metadata": {},
     "output_type": "execute_result"
    }
   ],
   "source": [
    "np.random.randint([2,7]) "
   ]
  },
  {
   "cell_type": "code",
   "execution_count": 30,
   "id": "85618155-b88a-4317-9a27-a53eaaf7d367",
   "metadata": {},
   "outputs": [
    {
     "data": {
      "text/plain": [
       "1"
      ]
     },
     "execution_count": 30,
     "metadata": {},
     "output_type": "execute_result"
    }
   ],
   "source": [
    "np.random.randint(1,8)"
   ]
  },
  {
   "cell_type": "code",
   "execution_count": 31,
   "id": "098e6adb-251b-4fc0-8f1c-b9ea36c807e6",
   "metadata": {},
   "outputs": [
    {
     "data": {
      "text/plain": [
       "array([0, 0])"
      ]
     },
     "execution_count": 31,
     "metadata": {},
     "output_type": "execute_result"
    }
   ],
   "source": [
    "np.random.randint(0,10,2) #fist:- starting number (included) Second:-ending number (excluded) Third:-kitne random numbers chahiye (array ka shape)"
   ]
  },
  {
   "cell_type": "code",
   "execution_count": 32,
   "id": "4c92ce56-25b9-4614-af47-51075fdec2db",
   "metadata": {},
   "outputs": [
    {
     "data": {
      "text/plain": [
       "array([4, 4])"
      ]
     },
     "execution_count": 32,
     "metadata": {},
     "output_type": "execute_result"
    }
   ],
   "source": [
    "np.random.randint(0,10,2) "
   ]
  },
  {
   "cell_type": "code",
   "execution_count": 33,
   "id": "77f07e55-088c-400c-a777-336083a04a7d",
   "metadata": {},
   "outputs": [
    {
     "data": {
      "text/plain": [
       "array([2, 1, 1, 4, 0, 1, 0, 1])"
      ]
     },
     "execution_count": 33,
     "metadata": {},
     "output_type": "execute_result"
    }
   ],
   "source": [
    "np.random.randint(0,5, 8)"
   ]
  },
  {
   "cell_type": "code",
   "execution_count": 34,
   "id": "eb63ac9e-6e8e-47db-9ef1-32dc850ae385",
   "metadata": {},
   "outputs": [],
   "source": [
    "n = np.random.randint(10,40,(8,10)) #(8,10):- shape of array 8rows, 10column"
   ]
  },
  {
   "cell_type": "code",
   "execution_count": 35,
   "id": "6857cf62-df48-4fea-8a13-6138e297c153",
   "metadata": {},
   "outputs": [
    {
     "data": {
      "text/plain": [
       "array([[36, 29, 16, 15, 23, 38, 21, 12, 12, 22],\n",
       "       [20, 17, 20, 23, 29, 33, 12, 38, 32, 18],\n",
       "       [26, 37, 11, 10, 21, 28, 27, 32, 13, 23],\n",
       "       [22, 11, 19, 17, 30, 39, 31, 39, 22, 28],\n",
       "       [25, 24, 20, 10, 12, 33, 21, 17, 30, 15],\n",
       "       [21, 27, 14, 17, 36, 10, 37, 29, 17, 12],\n",
       "       [16, 29, 38, 11, 25, 16, 21, 13, 21, 10],\n",
       "       [19, 26, 23, 20, 23, 17, 28, 38, 18, 22]])"
      ]
     },
     "execution_count": 35,
     "metadata": {},
     "output_type": "execute_result"
    }
   ],
   "source": [
    "n"
   ]
  },
  {
   "cell_type": "code",
   "execution_count": 36,
   "id": "7504c249-08ba-42bd-9d81-d8ba974c7c76",
   "metadata": {},
   "outputs": [
    {
     "data": {
      "text/plain": [
       "array([21, 27, 14, 17, 36, 10, 37, 29, 17, 12])"
      ]
     },
     "execution_count": 36,
     "metadata": {},
     "output_type": "execute_result"
    }
   ],
   "source": [
    "n[5] #5th row"
   ]
  },
  {
   "cell_type": "code",
   "execution_count": 37,
   "id": "e700fc53-23e6-4348-bff4-9958137402fc",
   "metadata": {},
   "outputs": [
    {
     "data": {
      "text/plain": [
       "array([16, 29, 38, 11, 25, 16, 21, 13, 21, 10])"
      ]
     },
     "execution_count": 37,
     "metadata": {},
     "output_type": "execute_result"
    }
   ],
   "source": [
    "n[6]"
   ]
  },
  {
   "cell_type": "code",
   "execution_count": 38,
   "id": "4526d9d9-0987-4edc-b6fb-83f05cb3ee6c",
   "metadata": {},
   "outputs": [
    {
     "data": {
      "text/plain": [
       "array([[36, 29, 16, 15, 23, 38, 21, 12, 12, 22],\n",
       "       [20, 17, 20, 23, 29, 33, 12, 38, 32, 18],\n",
       "       [26, 37, 11, 10, 21, 28, 27, 32, 13, 23],\n",
       "       [22, 11, 19, 17, 30, 39, 31, 39, 22, 28],\n",
       "       [25, 24, 20, 10, 12, 33, 21, 17, 30, 15],\n",
       "       [21, 27, 14, 17, 36, 10, 37, 29, 17, 12]])"
      ]
     },
     "execution_count": 38,
     "metadata": {},
     "output_type": "execute_result"
    }
   ],
   "source": [
    "n[0:6] #0th row to 5th row"
   ]
  },
  {
   "cell_type": "code",
   "execution_count": 39,
   "id": "52c614e5-7457-4499-8625-6cc29d54230e",
   "metadata": {},
   "outputs": [
    {
     "data": {
      "text/plain": [
       "array([[36, 29, 16, 15, 23, 38, 21, 12, 12, 22],\n",
       "       [20, 17, 20, 23, 29, 33, 12, 38, 32, 18],\n",
       "       [26, 37, 11, 10, 21, 28, 27, 32, 13, 23],\n",
       "       [22, 11, 19, 17, 30, 39, 31, 39, 22, 28],\n",
       "       [25, 24, 20, 10, 12, 33, 21, 17, 30, 15],\n",
       "       [21, 27, 14, 17, 36, 10, 37, 29, 17, 12],\n",
       "       [16, 29, 38, 11, 25, 16, 21, 13, 21, 10],\n",
       "       [19, 26, 23, 20, 23, 17, 28, 38, 18, 22]])"
      ]
     },
     "execution_count": 39,
     "metadata": {},
     "output_type": "execute_result"
    }
   ],
   "source": [
    "n"
   ]
  },
  {
   "cell_type": "code",
   "execution_count": 40,
   "id": "ddb95ff2-c660-4335-95f5-bc5c6512cd55",
   "metadata": {},
   "outputs": [
    {
     "data": {
      "text/plain": [
       "array([[19, 26, 23, 20, 23, 17, 28, 38, 18, 22],\n",
       "       [16, 29, 38, 11, 25, 16, 21, 13, 21, 10],\n",
       "       [21, 27, 14, 17, 36, 10, 37, 29, 17, 12],\n",
       "       [25, 24, 20, 10, 12, 33, 21, 17, 30, 15],\n",
       "       [22, 11, 19, 17, 30, 39, 31, 39, 22, 28],\n",
       "       [26, 37, 11, 10, 21, 28, 27, 32, 13, 23],\n",
       "       [20, 17, 20, 23, 29, 33, 12, 38, 32, 18],\n",
       "       [36, 29, 16, 15, 23, 38, 21, 12, 12, 22]])"
      ]
     },
     "execution_count": 40,
     "metadata": {},
     "output_type": "execute_result"
    }
   ],
   "source": [
    "n[::-1] #rows reverse upper to lower and lower to upper"
   ]
  },
  {
   "cell_type": "code",
   "execution_count": 41,
   "id": "e8a2d812-c482-4961-8213-dc47d84ac710",
   "metadata": {},
   "outputs": [
    {
     "data": {
      "text/plain": [
       "array([[36, 29, 16, 15, 23, 38, 21, 12, 12, 22],\n",
       "       [20, 17, 20, 23, 29, 33, 12, 38, 32, 18],\n",
       "       [26, 37, 11, 10, 21, 28, 27, 32, 13, 23],\n",
       "       [22, 11, 19, 17, 30, 39, 31, 39, 22, 28],\n",
       "       [25, 24, 20, 10, 12, 33, 21, 17, 30, 15],\n",
       "       [21, 27, 14, 17, 36, 10, 37, 29, 17, 12],\n",
       "       [16, 29, 38, 11, 25, 16, 21, 13, 21, 10],\n",
       "       [19, 26, 23, 20, 23, 17, 28, 38, 18, 22]])"
      ]
     },
     "execution_count": 41,
     "metadata": {},
     "output_type": "execute_result"
    }
   ],
   "source": [
    "n"
   ]
  },
  {
   "cell_type": "code",
   "execution_count": 42,
   "id": "1cbf2e9a-acd6-4c46-a6b1-7203780ee283",
   "metadata": {},
   "outputs": [
    {
     "data": {
      "text/plain": [
       "array([[36, 29, 16, 15, 23, 38, 21, 12, 12, 22],\n",
       "       [26, 37, 11, 10, 21, 28, 27, 32, 13, 23],\n",
       "       [25, 24, 20, 10, 12, 33, 21, 17, 30, 15],\n",
       "       [16, 29, 38, 11, 25, 16, 21, 13, 21, 10]])"
      ]
     },
     "execution_count": 42,
     "metadata": {},
     "output_type": "execute_result"
    }
   ],
   "source": [
    "n[::2] #take every 2nd row from the 1st row"
   ]
  },
  {
   "cell_type": "code",
   "execution_count": 43,
   "id": "6fa9c375-9bd6-42b9-a05e-40477ad7e065",
   "metadata": {},
   "outputs": [
    {
     "data": {
      "text/plain": [
       "array([[36, 29, 16, 15, 23, 38, 21, 12, 12, 22],\n",
       "       [20, 17, 20, 23, 29, 33, 12, 38, 32, 18],\n",
       "       [26, 37, 11, 10, 21, 28, 27, 32, 13, 23],\n",
       "       [22, 11, 19, 17, 30, 39, 31, 39, 22, 28],\n",
       "       [25, 24, 20, 10, 12, 33, 21, 17, 30, 15],\n",
       "       [21, 27, 14, 17, 36, 10, 37, 29, 17, 12],\n",
       "       [16, 29, 38, 11, 25, 16, 21, 13, 21, 10],\n",
       "       [19, 26, 23, 20, 23, 17, 28, 38, 18, 22]])"
      ]
     },
     "execution_count": 43,
     "metadata": {},
     "output_type": "execute_result"
    }
   ],
   "source": [
    "n"
   ]
  },
  {
   "cell_type": "code",
   "execution_count": 45,
   "id": "33931154-10ab-4916-95c4-1ac4c0b04f9e",
   "metadata": {},
   "outputs": [
    {
     "data": {
      "text/plain": [
       "array([[36, 29, 16, 15, 23, 38, 21, 12, 12, 22],\n",
       "       [20, 17, 20, 23, 29, 33, 12, 38, 32, 18],\n",
       "       [26, 37, 11, 10, 21, 28, 27, 32, 13, 23],\n",
       "       [22, 11, 19, 17, 30, 39, 31, 39, 22, 28],\n",
       "       [25, 24, 20, 10, 12, 33, 21, 17, 30, 15]])"
      ]
     },
     "execution_count": 45,
     "metadata": {},
     "output_type": "execute_result"
    }
   ],
   "source": [
    "n[0:5]"
   ]
  },
  {
   "cell_type": "code",
   "execution_count": 46,
   "id": "2e133765-d852-444e-9da1-210730ec09f8",
   "metadata": {},
   "outputs": [
    {
     "data": {
      "text/plain": [
       "array([[36, 29, 16, 15, 23, 38, 21, 12, 12, 22],\n",
       "       [20, 17, 20, 23, 29, 33, 12, 38, 32, 18],\n",
       "       [26, 37, 11, 10, 21, 28, 27, 32, 13, 23],\n",
       "       [22, 11, 19, 17, 30, 39, 31, 39, 22, 28],\n",
       "       [25, 24, 20, 10, 12, 33, 21, 17, 30, 15],\n",
       "       [21, 27, 14, 17, 36, 10, 37, 29, 17, 12],\n",
       "       [16, 29, 38, 11, 25, 16, 21, 13, 21, 10],\n",
       "       [19, 26, 23, 20, 23, 17, 28, 38, 18, 22]])"
      ]
     },
     "execution_count": 46,
     "metadata": {},
     "output_type": "execute_result"
    }
   ],
   "source": [
    "n"
   ]
  },
  {
   "cell_type": "code",
   "execution_count": 47,
   "id": "56db96f4-eed7-4e2f-b9be-3bf5396b59ac",
   "metadata": {},
   "outputs": [
    {
     "data": {
      "text/plain": [
       "np.int64(29)"
      ]
     },
     "execution_count": 47,
     "metadata": {},
     "output_type": "execute_result"
    }
   ],
   "source": [
    "n[5,-3]"
   ]
  },
  {
   "cell_type": "code",
   "execution_count": 48,
   "id": "188deb09-a476-4cc2-a26d-af9de103376d",
   "metadata": {},
   "outputs": [],
   "source": [
    "v = int(n[5,-3])"
   ]
  },
  {
   "cell_type": "code",
   "execution_count": 49,
   "id": "6c153310-a3d2-4cb2-8a9d-d5de52d7f022",
   "metadata": {},
   "outputs": [
    {
     "data": {
      "text/plain": [
       "29"
      ]
     },
     "execution_count": 49,
     "metadata": {},
     "output_type": "execute_result"
    }
   ],
   "source": [
    "v"
   ]
  },
  {
   "cell_type": "code",
   "execution_count": 50,
   "id": "d113522f-25eb-4806-9a35-8c2d1d913bbd",
   "metadata": {},
   "outputs": [
    {
     "data": {
      "text/plain": [
       "np.int64(10)"
      ]
     },
     "execution_count": 50,
     "metadata": {},
     "output_type": "execute_result"
    }
   ],
   "source": [
    "n[2,3]"
   ]
  },
  {
   "cell_type": "code",
   "execution_count": 54,
   "id": "97d97c0c-7190-4856-8d40-401fc12bbb58",
   "metadata": {},
   "outputs": [
    {
     "name": "stdout",
     "output_type": "stream",
     "text": [
      "12\n"
     ]
    }
   ],
   "source": [
    "import numpy as np\n",
    "x = np.int64(12)   #for storing integer 64 bits space is required  \n",
    "print(x)"
   ]
  },
  {
   "cell_type": "code",
   "execution_count": 55,
   "id": "6211a58f-e42d-441a-8112-d48164149308",
   "metadata": {},
   "outputs": [
    {
     "name": "stdout",
     "output_type": "stream",
     "text": [
      "7\n"
     ]
    }
   ],
   "source": [
    "import numpy as np \n",
    "x = np.int32(7) #for storing integer 32 bit space is required\n",
    "print(x)"
   ]
  },
  {
   "cell_type": "markdown",
   "id": "833e1ebe-8a5a-4367-9dcd-8b513b2bb115",
   "metadata": {},
   "source": [
    "    reshape method"
   ]
  },
  {
   "cell_type": "code",
   "execution_count": 57,
   "id": "419db147-f58e-4439-8867-2ee60d4010e5",
   "metadata": {},
   "outputs": [
    {
     "data": {
      "text/plain": [
       "array([[ 1,  2],\n",
       "       [ 3,  4],\n",
       "       [ 5,  6],\n",
       "       [ 7,  8],\n",
       "       [ 9, 10],\n",
       "       [11, 12]])"
      ]
     },
     "execution_count": 57,
     "metadata": {},
     "output_type": "execute_result"
    }
   ],
   "source": [
    "np.arange(1,13).reshape(6,2) #reshape(6, 2):- s 1D array ko 6 rows × 2 columns ke 2D array me arrange kar deta hai."
   ]
  },
  {
   "cell_type": "code",
   "execution_count": null,
   "id": "d862962d-f820-4135-a162-b13472c23ddb",
   "metadata": {},
   "outputs": [],
   "source": []
  },
  {
   "cell_type": "code",
   "execution_count": null,
   "id": "2400aecb-d8f9-45b6-b6d0-d4050bba791f",
   "metadata": {},
   "outputs": [],
   "source": []
  },
  {
   "cell_type": "code",
   "execution_count": null,
   "id": "3baab255-a48b-4369-9e1f-1fbb34b34cb0",
   "metadata": {},
   "outputs": [],
   "source": []
  },
  {
   "cell_type": "code",
   "execution_count": null,
   "id": "9abff359-cb61-4938-8bfc-df48334ab0fa",
   "metadata": {},
   "outputs": [],
   "source": []
  },
  {
   "cell_type": "code",
   "execution_count": null,
   "id": "120d2b78-17d0-49ea-a13d-82eecfe69dc9",
   "metadata": {},
   "outputs": [],
   "source": []
  },
  {
   "cell_type": "code",
   "execution_count": null,
   "id": "55c1fdc4-72e9-49cd-9ed2-6ae2eaf627dd",
   "metadata": {},
   "outputs": [],
   "source": []
  },
  {
   "cell_type": "code",
   "execution_count": null,
   "id": "47591770-d579-4721-bc37-8616d06ff0a9",
   "metadata": {},
   "outputs": [],
   "source": []
  },
  {
   "cell_type": "code",
   "execution_count": null,
   "id": "5621a221-95de-4fb3-a3da-a9ab8c38902e",
   "metadata": {},
   "outputs": [],
   "source": []
  },
  {
   "cell_type": "code",
   "execution_count": null,
   "id": "3bc608f3-792e-422f-ad03-a638675a3526",
   "metadata": {},
   "outputs": [],
   "source": []
  }
 ],
 "metadata": {
  "kernelspec": {
   "display_name": "Python 3 (ipykernel)",
   "language": "python",
   "name": "python3"
  },
  "language_info": {
   "codemirror_mode": {
    "name": "ipython",
    "version": 3
   },
   "file_extension": ".py",
   "mimetype": "text/x-python",
   "name": "python",
   "nbconvert_exporter": "python",
   "pygments_lexer": "ipython3",
   "version": "3.13.5"
  }
 },
 "nbformat": 4,
 "nbformat_minor": 5
}
